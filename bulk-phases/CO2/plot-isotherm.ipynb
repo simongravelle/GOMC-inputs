{
 "cells": [
  {
   "cell_type": "code",
   "execution_count": 22,
   "metadata": {},
   "outputs": [],
   "source": [
    "import matplotlib.pyplot as plt\n",
    "import numpy as np\n",
    "import pint, os\n",
    "ureg = pint.UnitRegistry()"
   ]
  },
  {
   "cell_type": "code",
   "execution_count": 23,
   "metadata": {},
   "outputs": [],
   "source": [
    "T = 300 * ureg.kelvin\n",
    "kB =  1.380649e-23 * ureg.joule/ureg.kelvin # J/K\n",
    "Na = 6.022141e23/ureg.mol # mol-1\n",
    "h = 6.626e-34 * ureg.joule*ureg.second # Js\n",
    "mass_CO2_g_mol = 44.01 * ureg.gram/ureg.mol\n",
    "mass_CO2 = mass_CO2_g_mol / Na\n",
    "mass_CO2 = mass_CO2.to_base_units()\n",
    "deBroglie_wavelength = np.sqrt(h**2/(2*np.pi*mass_CO2*kB*T)).to_base_units()"
   ]
  },
  {
   "cell_type": "code",
   "execution_count": 24,
   "metadata": {},
   "outputs": [],
   "source": [
    "# Theory\n",
    "def density_from_mu_id(mu_K, deBroglie_wavelength, kB, T):\n",
    "    mu_J = (mu_K*kB).to_base_units()\n",
    "    return np.exp(-mu_J/(kB*T)) / deBroglie_wavelength**3\n",
    "\n",
    "# Directory scanner\n",
    "def fast_scandir(dirname):\n",
    "    subfolders= [f.path for f in os.scandir(dirname) if f.is_dir()]\n",
    "    for dirname in list(subfolders):\n",
    "        subfolders.extend(fast_scandir(dirname))\n",
    "    return subfolders\n",
    "\n",
    "def measure_isotherm(dirs, atoms = [\"CO2\"], data_type = \"density\"):\n",
    "    out_data = []\n",
    "    for dir in dirs:\n",
    "        mean_out = 0\n",
    "        for atom in atoms:\n",
    "            if data_type == \"density\":\n",
    "                out = np.loadtxt(dir+\"/density_\"+atom+\".dat\")[:,1]\n",
    "            elif data_type == \"pressure\":\n",
    "                out = np.loadtxt(dir+\"/density_\"+atom+\".dat\")[:,1]\n",
    "            N_end = len(out)//50\n",
    "            mean_out += np.mean(out[-N_end:])\n",
    "        out_data.append(mean_out)\n",
    "    out_data = np.array(out_data)\n",
    "    if data_type == \"density\":\n",
    "        out_data *= ureg.gram/ureg.centimeter**3\n",
    "    elif data_type == \"pressure\":\n",
    "        out_data *= ureg.atm\n",
    "    return out_data\n",
    "\n",
    "# Folder detector\n",
    "def scan_directory(dir_lammps):\n",
    "    subfolders= fast_scandir(\"./\")\n",
    "    filtered_subfolders = []\n",
    "    for dir in subfolders:\n",
    "        if \"outputs_\" in dir:\n",
    "            if dir_lammps:\n",
    "                if \"lammps-comparison\" in dir:\n",
    "                    filtered_subfolders.append(dir)\n",
    "            else:\n",
    "                if \"lammps\" not in dir:\n",
    "                    filtered_subfolders.append(dir) \n",
    "    chemical_potentials_K = []\n",
    "    for dir in filtered_subfolders:\n",
    "        mu_K = np.float32(dir.split(\"_\")[-1][2:])\n",
    "        chemical_potentials_K.append(mu_K)\n",
    "    chemical_potentials_K = np.array(chemical_potentials_K)\n",
    "    chemical_potentials_K = chemical_potentials_K *ureg.degree_Kelvin\n",
    "    return filtered_subfolders, chemical_potentials_K"
   ]
  },
  {
   "cell_type": "markdown",
   "metadata": {},
   "source": [
    "# LAMMPS data"
   ]
  },
  {
   "cell_type": "code",
   "execution_count": 25,
   "metadata": {},
   "outputs": [],
   "source": [
    "lammps_dir, lammps_mu_K = scan_directory(dir_lammps = True)\n",
    "lammps_rho_g_cm3 = measure_isotherm(lammps_dir, atoms = [\"CO2\"], data_type = \"density\")\n",
    "lammps_p_atm = measure_isotherm(lammps_dir, atoms = [\"CO2\"], data_type = \"pressure\")"
   ]
  },
  {
   "cell_type": "markdown",
   "metadata": {},
   "source": [
    "# GOMC data"
   ]
  },
  {
   "cell_type": "code",
   "execution_count": 26,
   "metadata": {},
   "outputs": [],
   "source": [
    "gomc_dir, gomc_mu_K = scan_directory(dir_lammps = False)\n",
    "gomc_rho_g_cm3 = measure_isotherm(gomc_dir, atoms = [\"C\", \"O\"], data_type = \"density\")\n",
    "gomc_p_atm = measure_isotherm(gomc_dir, atoms = [\"C\", \"O\"], data_type = \"pressure\")"
   ]
  },
  {
   "cell_type": "markdown",
   "metadata": {},
   "source": [
    "# Theory"
   ]
  },
  {
   "cell_type": "code",
   "execution_count": 27,
   "metadata": {},
   "outputs": [],
   "source": [
    "mu_K = np.arange(2500, 5500)*ureg.kelvin\n",
    "rho_m3 = density_from_mu_id(mu_K, deBroglie_wavelength, kB, T) # per m3\n",
    "rho_g_cm3 = (rho_m3 * mass_CO2_g_mol / Na).to(ureg.gram/ureg.cm**3)"
   ]
  },
  {
   "cell_type": "markdown",
   "metadata": {},
   "source": [
    "# Plot"
   ]
  },
  {
   "cell_type": "code",
   "execution_count": 28,
   "metadata": {},
   "outputs": [
    {
     "data": {
      "text/plain": [
       "[<matplotlib.lines.Line2D at 0x7df16219b230>]"
      ]
     },
     "execution_count": 28,
     "metadata": {},
     "output_type": "execute_result"
    },
    {
     "data": {
      "image/png": "[encoded data removed]",
      "text/plain": [
       "<Figure size 640x480 with 1 Axes>"
      ]
     },
     "metadata": {},
     "output_type": "display_data"
    }
   ],
   "source": [
    "plt.semilogy(-gomc_mu_K.magnitude, gomc_rho_g_cm3.magnitude, 'o')\n",
    "plt.semilogy(-lammps_mu_K.magnitude, lammps_rho_g_cm3.magnitude, 's')\n",
    "plt.semilogy(-mu_K.magnitude, rho_g_cm3.magnitude)"
   ]
  }
 ],
 "metadata": {
  "kernelspec": {
   "display_name": "Python 3",
   "language": "python",
   "name": "python3"
  },
  "language_info": {
   "codemirror_mode": {
    "name": "ipython",
    "version": 3
   },
   "file_extension": ".py",
   "mimetype": "text/x-python",
   "name": "python",
   "nbconvert_exporter": "python",
   "pygments_lexer": "ipython3",
   "version": "3.12.3"
  }
 },
 "nbformat": 4,
 "nbformat_minor": 2
}
