{
 "cells": [
  {
   "cell_type": "code",
   "execution_count": 1,
   "metadata": {},
   "outputs": [
    {
     "name": "stderr",
     "output_type": "stream",
     "text": [
      "/home/simon/.local/lib/python3.12/site-packages/matplotlib/projections/__init__.py:63: UserWarning: Unable to import Axes3D. This may be due to multiple versions of Matplotlib being installed (e.g. as a system package and as a pip package). As a result, the 3D projection is not available.\n",
      "  warnings.warn(\"Unable to import Axes3D. This may be due to multiple versions of \"\n"
     ]
    }
   ],
   "source": [
    "import matplotlib.pyplot as plt\n",
    "import numpy as np"
   ]
  },
  {
   "cell_type": "code",
   "execution_count": 2,
   "metadata": {},
   "outputs": [
    {
     "name": "stdout",
     "output_type": "stream",
     "text": [
      "[0.33331325 0.94281614 0.        ]\n"
     ]
    }
   ],
   "source": [
    "a = np.array([-1.0, 0.0, 0.0]) \n",
    "b = np.array([0.0, 0.0, 0.0 ]) \n",
    "c = np.array([np.sin((109.47-90)*np.pi/180), np.cos((109.47-90)*np.pi/180), 0.0 ]) \n",
    "print(c)"
   ]
  },
  {
   "cell_type": "code",
   "execution_count": 3,
   "metadata": {},
   "outputs": [
    {
     "data": {
      "image/png": "[encoded data removed]",
      "text/plain": [
       "<Figure size 640x480 with 1 Axes>"
      ]
     },
     "metadata": {},
     "output_type": "display_data"
    }
   ],
   "source": [
    "an = np.linspace(0, 2 * np.pi, 100)\n",
    "fig, axs = plt.subplots()\n",
    "x = np.linspace(0, 1)\n",
    "axs.plot(x*0, x, \"k\")\n",
    "axs.plot(x*0+1, x, \"k\")\n",
    "axs.plot(x, x*0, \"k\")\n",
    "axs.plot(x, x*0+1, \"k\")\n",
    "\n",
    "axs.plot(a[0], a[1], 'or')\n",
    "axs.plot(b[0], b[1], 'or')\n",
    "axs.plot(c[0], c[1], 'or')\n",
    "\n",
    "axs.set_aspect('equal', 'box')"
   ]
  }
 ],
 "metadata": {
  "kernelspec": {
   "display_name": "Python 3",
   "language": "python",
   "name": "python3"
  },
  "language_info": {
   "codemirror_mode": {
    "name": "ipython",
    "version": 3
   },
   "file_extension": ".py",
   "mimetype": "text/x-python",
   "name": "python",
   "nbconvert_exporter": "python",
   "pygments_lexer": "ipython3",
   "version": "3.12.3"
  }
 },
 "nbformat": 4,
 "nbformat_minor": 2
}
